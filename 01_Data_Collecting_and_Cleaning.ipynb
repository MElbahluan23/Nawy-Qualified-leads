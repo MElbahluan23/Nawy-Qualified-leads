{
 "cells": [
  {
   "cell_type": "markdown",
   "id": "8aa31e94",
   "metadata": {
    "id": "8aa31e94"
   },
   "source": [
    "# Notes \n",
    "1. A Clean Python Notebook showing your work during the data exploration and feature\n",
    "engineering phase.\n",
    "2. Document and mention all experiments you did whether in jupyter notebooks or excel sheets.\n",
    "3. You should have clear next steps and recommendations based on your analysis.\n",
    "4. Powerpoint presentation showing insights you have found in the data and the best experiment in terms of data,features,model and results\n",
    "5. Extra points for- modularized and reusable code and model deployment.\n",
    "6. Delivery will be a github repo including all deliverables."
   ]
  },
  {
   "cell_type": "markdown",
   "id": "34fd7bf0",
   "metadata": {
    "id": "34fd7bf0"
   },
   "source": [
    "# Our Client \n",
    "Nawy is a one-stop-shop that will provide you with the key to your new home by presenting all the necessary information and helps you make an informed decision via reliable brokers. Users are able to search for available units by selecting criteria that match their needs.  We are partnered with all the big real estate developers. Our team includes experienced real estate brokers that facilitate the transaction. \n",
    "\n",
    "There is a lack of information in the Egyptian real estate market. Making an informed decision requires time-consuming manual work and comparing between available options is a difficult task. This creates an unnecessary time burden and leads to incorrect decision making when buying/selling properties. Brokers in Egypt have a bad reputation and are perceived to be untrustworthy.\n",
    "\n",
    "\n",
    "# Defining the Problem and Project Goal\n",
    "\n",
    "In Nawy we are initiating targeting campaigns on a daily basis to generate Real estate leads.<br>\n",
    "The main pain is generating qualified leads.\n",
    "\n",
    "* The first objective of this project is **to recognize key factors that will use to know qualified lead**.\n",
    "* So we need **to build a model to classify the received leads into two categories: low qualified and high qualified leads.**\n",
    "\n",
    "------------------------------------------------------------------------------------------------------------------\n",
    "\n",
    "## Data Dictionary\n",
    "* **lead_id** Is unique id representing customer (customer my reach more than one time)\n",
    "* **customer_name** Name of the customer\n",
    "* **lead_mobile_network** To differentiate between local and international customers\n",
    "* **message** Message left by the customer\n",
    "* **lead_time** Time of receiving the lead\n",
    "* **method_of_contact** Contact method used to reach us\n",
    "* **ad_group** Include information of target audience used in the campaign\n",
    "* **lead_source** Channel used to reach us\n",
    "* **campaign** Name of the targeting campaign\n",
    "* **Location** The location which the customer is searching for\n",
    "* **Low_qualified** Define if the lead is low or high qualified\n",
    "\n"
   ]
  },
  {
   "cell_type": "markdown",
   "id": "7b10cd0b",
   "metadata": {
    "id": "7b10cd0b"
   },
   "source": [
    "# Importing libraries\n"
   ]
  },
  {
   "cell_type": "code",
   "execution_count": 3,
   "id": "081fd9fd",
   "metadata": {
    "executionInfo": {
     "elapsed": 9,
     "status": "ok",
     "timestamp": 1645448305306,
     "user": {
      "displayName": "Mohamed Ahmed Hassan Abdelmaguid Mohamed",
      "photoUrl": "https://lh3.googleusercontent.com/a-/AOh14Gg7Cz_FAvD0YxWzRP7aQqIpUg-scVtk8zA6OPSSfw=s64",
      "userId": "04245446656493821652"
     },
     "user_tz": -120
    },
    "id": "081fd9fd"
   },
   "outputs": [],
   "source": [
    "## for data\n",
    "import json\n",
    "import pandas as pd\n",
    "import numpy as np\n",
    "import os\n",
    "from datetime import datetime, date\n",
    "\n",
    "## for plotting\n",
    "import matplotlib.pyplot as plt\n",
    "import seaborn as sns\n",
    "from IPython.display import display\n",
    "pd.set_option('display.max_rows', 500)\n",
    "pd.set_option('display.max_columns', 500)\n",
    "pd.set_option('display.width', 1000)\n",
    "sns.set(rc={'figure.figsize': [10, 7]}, font_scale=1.0)\n",
    "\n",
    "## for cleaning\n",
    "import re"
   ]
  },
  {
   "cell_type": "markdown",
   "id": "55c2687e",
   "metadata": {
    "id": "55c2687e"
   },
   "source": [
    "# Helper Functions\n"
   ]
  },
  {
   "cell_type": "code",
   "execution_count": 4,
   "id": "c84b3c7a",
   "metadata": {
    "executionInfo": {
     "elapsed": 9,
     "status": "ok",
     "timestamp": 1645448305307,
     "user": {
      "displayName": "Mohamed Ahmed Hassan Abdelmaguid Mohamed",
      "photoUrl": "https://lh3.googleusercontent.com/a-/AOh14Gg7Cz_FAvD0YxWzRP7aQqIpUg-scVtk8zA6OPSSfw=s64",
      "userId": "04245446656493821652"
     },
     "user_tz": -120
    },
    "id": "c84b3c7a"
   },
   "outputs": [],
   "source": [
    "def clean_text(row):\n",
    "    row =' '.join(re.findall('[A-Za-z0-9]+',  str(row))) \n",
    "    row = re.sub(r\"\"\" +\"\"\",' ',row)\n",
    "    return row\n",
    "\n",
    "\n",
    "def clustring_cat(leads,columns):\n",
    "    leads.loc[(leads[columns].str.contains('facebook')) | (leads[columns].str.contains('fb')),columns] = 'facebook'\n",
    "    leads.loc[(leads[columns].str.contains('instagram')),columns] = 'instagram'\n",
    "    leads.loc[(leads[columns].str.contains('whats')) | (leads['lead_source'].str.contains('whast')),columns] = 'whatsapp'\n",
    "    leads.loc[(leads[columns].str.contains('org')) | (leads['lead_source'].str.contains('com')) |(leads[columns].str.contains('net')) |(leads[columns].str.contains('io')),columns] = 'website'\n",
    "    leads.loc[(leads[columns].str.contains('form')),columns] = 'form'\n",
    "    leads.loc[(leads[columns].str.contains('personal')) | (leads[columns].str.contains('referral')) |(leads[columns].str.contains('client')),columns] = 'referral'\n",
    "    leads.loc[(leads[columns].str.contains('call')) | (leads[columns].str.contains('hotline'))| (leads[columns].str.contains('sms')),columns] = 'phone'\n",
    "    leads.loc[(leads[columns].str.contains('google')),columns] = 'google'\n",
    "    leads.loc[(leads[columns].str.contains('app')),columns] = 'app'\n",
    "\n",
    "    categories=['facebook','form','website','whatsapp','phone','referral','app','google','landing page','unknown']\n",
    "    leads.loc[~(leads[columns].isin(categories)),columns] = 'other'\n",
    "    return leads\n"
   ]
  },
  {
   "cell_type": "markdown",
   "id": "b50cffc3",
   "metadata": {
    "id": "b50cffc3"
   },
   "source": [
    "# Get the data"
   ]
  },
  {
   "cell_type": "code",
   "execution_count": 5,
   "id": "4c68c81c",
   "metadata": {
    "executionInfo": {
     "elapsed": 11055,
     "status": "ok",
     "timestamp": 1645448840785,
     "user": {
      "displayName": "Mohamed Ahmed Hassan Abdelmaguid Mohamed",
      "photoUrl": "https://lh3.googleusercontent.com/a-/AOh14Gg7Cz_FAvD0YxWzRP7aQqIpUg-scVtk8zA6OPSSfw=s64",
      "userId": "04245446656493821652"
     },
     "user_tz": -120
    },
    "id": "4c68c81c"
   },
   "outputs": [],
   "source": [
    "# Let us load the data now.\n",
    "DATA_PATH=\"./dataset/\"\n",
    "leads=pd.read_csv(DATA_PATH+\"dataset.csv\",low_memory=False).drop(columns=['Unnamed: 11' ,'Unnamed: 12'])\n"
   ]
  },
  {
   "cell_type": "markdown",
   "id": "16d4e71d",
   "metadata": {
    "id": "16d4e71d"
   },
   "source": [
    "#  Clean the Data\n",
    "\n"
   ]
  },
  {
   "cell_type": "code",
   "execution_count": 26,
   "id": "05f59842",
   "metadata": {
    "colab": {
     "base_uri": "https://localhost:8080/",
     "height": 206
    },
    "executionInfo": {
     "elapsed": 43,
     "status": "ok",
     "timestamp": 1645448317979,
     "user": {
      "displayName": "Mohamed Ahmed Hassan Abdelmaguid Mohamed",
      "photoUrl": "https://lh3.googleusercontent.com/a-/AOh14Gg7Cz_FAvD0YxWzRP7aQqIpUg-scVtk8zA6OPSSfw=s64",
      "userId": "04245446656493821652"
     },
     "user_tz": -120
    },
    "id": "05f59842",
    "outputId": "e5d0c595-7454-45ed-b5fc-7129845d827e"
   },
   "outputs": [
    {
     "data": {
      "text/html": [
       "<div>\n",
       "<style scoped>\n",
       "    .dataframe tbody tr th:only-of-type {\n",
       "        vertical-align: middle;\n",
       "    }\n",
       "\n",
       "    .dataframe tbody tr th {\n",
       "        vertical-align: top;\n",
       "    }\n",
       "\n",
       "    .dataframe thead th {\n",
       "        text-align: right;\n",
       "    }\n",
       "</style>\n",
       "<table border=\"1\" class=\"dataframe\">\n",
       "  <thead>\n",
       "    <tr style=\"text-align: right;\">\n",
       "      <th></th>\n",
       "      <th>13820</th>\n",
       "      <th>36297</th>\n",
       "      <th>64392</th>\n",
       "      <th>69655</th>\n",
       "      <th>22939</th>\n",
       "      <th>76555</th>\n",
       "      <th>21932</th>\n",
       "      <th>28012</th>\n",
       "      <th>79545</th>\n",
       "      <th>85241</th>\n",
       "    </tr>\n",
       "  </thead>\n",
       "  <tbody>\n",
       "    <tr>\n",
       "      <th>lead_id</th>\n",
       "      <td>28281</td>\n",
       "      <td>50117</td>\n",
       "      <td>74675</td>\n",
       "      <td>79669</td>\n",
       "      <td>36004</td>\n",
       "      <td>86234</td>\n",
       "      <td>35181</td>\n",
       "      <td>40368</td>\n",
       "      <td>89116</td>\n",
       "      <td>94625</td>\n",
       "    </tr>\n",
       "    <tr>\n",
       "      <th>customer_name</th>\n",
       "      <td>منار عبد الحميد محمد عبد الله</td>\n",
       "      <td>Salah Saad</td>\n",
       "      <td>Tamer Elkhateb</td>\n",
       "      <td>Aya Ramadan</td>\n",
       "      <td>إيمان احمد سليم</td>\n",
       "      <td>Hany abul ghaiet</td>\n",
       "      <td>Aya Mahmoud</td>\n",
       "      <td>Mohsen Akram</td>\n",
       "      <td>DäLiä Abd Elfatah</td>\n",
       "      <td>Mohamed fekry</td>\n",
       "    </tr>\n",
       "    <tr>\n",
       "      <th>lead_mobile_network</th>\n",
       "      <td>Vodafone</td>\n",
       "      <td>Gulf</td>\n",
       "      <td>Etisalat</td>\n",
       "      <td>Orange</td>\n",
       "      <td>Orange</td>\n",
       "      <td>Gulf</td>\n",
       "      <td>Orange</td>\n",
       "      <td>Orange</td>\n",
       "      <td>Vodafone</td>\n",
       "      <td>Vodafone</td>\n",
       "    </tr>\n",
       "    <tr>\n",
       "      <th>message</th>\n",
       "      <td>message : بسأل عن الدوبلكس</td>\n",
       "      <td>ad_id : 23848252596060664 \\nadgroup_id : 23848...</td>\n",
       "      <td>ad_id : 23849966594760562 \\nadgroup_id : 23849...</td>\n",
       "      <td>ad_id : 23850481397800540 \\nadgroup_id : 23850...</td>\n",
       "      <td>ad_id : 23848117182480540 \\nadgroup_id : 23848...</td>\n",
       "      <td>ad_id : 23850279525690562 \\nadgroup_id : 23850...</td>\n",
       "      <td>ad_id : 23847616223880398 \\nadgroup_id : 23847...</td>\n",
       "      <td>message: Need to know about space for  challis...</td>\n",
       "      <td>ad_id : 23850071319530664 \\nadgroup_id : 23850...</td>\n",
       "      <td>message:</td>\n",
       "    </tr>\n",
       "    <tr>\n",
       "      <th>lead_time</th>\n",
       "      <td>2020-11-01 14:16:22.818000</td>\n",
       "      <td>2021-09-01 18:42:36.114490</td>\n",
       "      <td>2022-02-22 19:14:31.994515</td>\n",
       "      <td>2022-03-21 01:04:51.815317</td>\n",
       "      <td>2021-06-07 18:11:54.202000</td>\n",
       "      <td>2022-04-19 13:49:44.731140</td>\n",
       "      <td>2021-05-24 22:13:45.155000</td>\n",
       "      <td>2021-07-24 08:14:19.999000</td>\n",
       "      <td>2022-05-01 20:28:11.689252</td>\n",
       "      <td>2022-05-16 21:40:37.142236</td>\n",
       "    </tr>\n",
       "    <tr>\n",
       "      <th>method_of_contact</th>\n",
       "      <td>form adwords</td>\n",
       "      <td>facebook</td>\n",
       "      <td>facebook</td>\n",
       "      <td>facebook</td>\n",
       "      <td>facebook</td>\n",
       "      <td>facebook</td>\n",
       "      <td>facebook</td>\n",
       "      <td>l.facebook.com</td>\n",
       "      <td>facebook</td>\n",
       "      <td>generic form</td>\n",
       "    </tr>\n",
       "    <tr>\n",
       "      <th>ad_group</th>\n",
       "      <td>none</td>\n",
       "      <td>marassi - khaleeji lookalike</td>\n",
       "      <td>haptown - open targeting</td>\n",
       "      <td>palm parks - general audience with october int...</td>\n",
       "      <td>mazarine - general audience with real estate i...</td>\n",
       "      <td>the lakes bloomfields - khaleeji lookalike</td>\n",
       "      <td>skala - general audience with real estate inte...</td>\n",
       "      <td>none</td>\n",
       "      <td>jefaira - custom audience: lookalike (eg, 1%) ...</td>\n",
       "      <td>katameya_creeks</td>\n",
       "    </tr>\n",
       "    <tr>\n",
       "      <th>lead_source</th>\n",
       "      <td>google</td>\n",
       "      <td>facebook</td>\n",
       "      <td>facebook</td>\n",
       "      <td>facebook</td>\n",
       "      <td>facebook</td>\n",
       "      <td>facebook</td>\n",
       "      <td>facebook</td>\n",
       "      <td>facebook</td>\n",
       "      <td>facebook</td>\n",
       "      <td>google</td>\n",
       "    </tr>\n",
       "    <tr>\n",
       "      <th>campaign</th>\n",
       "      <td>NaN</td>\n",
       "      <td>emaar misr - lead generation - new - cooing 1</td>\n",
       "      <td>hassan allam - lead generation - cooing 2 - new</td>\n",
       "      <td>palm hills - lead generation - cooing 4 - new</td>\n",
       "      <td>city edge - lead generation - cooing 4</td>\n",
       "      <td>tatweer misr - lead generation - cooing 2 - new</td>\n",
       "      <td>mv - lead generation - cooing 3</td>\n",
       "      <td>none</td>\n",
       "      <td>inertia - lead generation - cooing 1</td>\n",
       "      <td>dev_-_starlight_developments</td>\n",
       "    </tr>\n",
       "    <tr>\n",
       "      <th>location</th>\n",
       "      <td>al burouj</td>\n",
       "      <td>marassi</td>\n",
       "      <td>haptown</td>\n",
       "      <td>palm parks</td>\n",
       "      <td>mazarine</td>\n",
       "      <td>mostakbal city villa offer</td>\n",
       "      <td>skala</td>\n",
       "      <td>/</td>\n",
       "      <td>jefaira</td>\n",
       "      <td>katameya creeks</td>\n",
       "    </tr>\n",
       "    <tr>\n",
       "      <th>low_qualified</th>\n",
       "      <td>1</td>\n",
       "      <td>0</td>\n",
       "      <td>1</td>\n",
       "      <td>1</td>\n",
       "      <td>0</td>\n",
       "      <td>0</td>\n",
       "      <td>0</td>\n",
       "      <td>0</td>\n",
       "      <td>0</td>\n",
       "      <td>0</td>\n",
       "    </tr>\n",
       "  </tbody>\n",
       "</table>\n",
       "</div>"
      ],
      "text/plain": [
       "                                             13820                                              36297                                              64392                                              69655                                              22939                                              76555                                              21932                                              28012                                              79545                         85241\n",
       "lead_id                                      28281                                              50117                                              74675                                              79669                                              36004                                              86234                                              35181                                              40368                                              89116                         94625\n",
       "customer_name        منار عبد الحميد محمد عبد الله                                         Salah Saad                                     Tamer Elkhateb                                        Aya Ramadan                                    إيمان احمد سليم                                   Hany abul ghaiet                                        Aya Mahmoud                                      Mohsen Akram                                   DäLiä Abd Elfatah                 Mohamed fekry\n",
       "lead_mobile_network                       Vodafone                                               Gulf                                           Etisalat                                             Orange                                             Orange                                               Gulf                                             Orange                                             Orange                                           Vodafone                      Vodafone\n",
       "message                 message : بسأل عن الدوبلكس  ad_id : 23848252596060664 \\nadgroup_id : 23848...  ad_id : 23849966594760562 \\nadgroup_id : 23849...  ad_id : 23850481397800540 \\nadgroup_id : 23850...  ad_id : 23848117182480540 \\nadgroup_id : 23848...  ad_id : 23850279525690562 \\nadgroup_id : 23850...  ad_id : 23847616223880398 \\nadgroup_id : 23847...  message: Need to know about space for  challis...  ad_id : 23850071319530664 \\nadgroup_id : 23850...                     message: \n",
       "lead_time               2020-11-01 14:16:22.818000                         2021-09-01 18:42:36.114490                         2022-02-22 19:14:31.994515                         2022-03-21 01:04:51.815317                         2021-06-07 18:11:54.202000                         2022-04-19 13:49:44.731140                         2021-05-24 22:13:45.155000                         2021-07-24 08:14:19.999000                         2022-05-01 20:28:11.689252    2022-05-16 21:40:37.142236\n",
       "method_of_contact                     form adwords                                           facebook                                           facebook                                           facebook                                           facebook                                           facebook                                           facebook                                     l.facebook.com                                           facebook                  generic form\n",
       "ad_group                                      none                       marassi - khaleeji lookalike                           haptown - open targeting  palm parks - general audience with october int...  mazarine - general audience with real estate i...         the lakes bloomfields - khaleeji lookalike  skala - general audience with real estate inte...                                               none  jefaira - custom audience: lookalike (eg, 1%) ...               katameya_creeks\n",
       "lead_source                                 google                                           facebook                                           facebook                                           facebook                                           facebook                                           facebook                                           facebook                                           facebook                                           facebook                        google\n",
       "campaign                                       NaN      emaar misr - lead generation - new - cooing 1    hassan allam - lead generation - cooing 2 - new      palm hills - lead generation - cooing 4 - new             city edge - lead generation - cooing 4    tatweer misr - lead generation - cooing 2 - new                    mv - lead generation - cooing 3                                               none               inertia - lead generation - cooing 1  dev_-_starlight_developments\n",
       "location                                 al burouj                                            marassi                                            haptown                                         palm parks                                           mazarine                         mostakbal city villa offer                                              skala                                                  /                                            jefaira               katameya creeks\n",
       "low_qualified                                    1                                                  0                                                  1                                                  1                                                  0                                                  0                                                  0                                                  0                                                  0                             0"
      ]
     },
     "execution_count": 26,
     "metadata": {},
     "output_type": "execute_result"
    }
   ],
   "source": [
    "leads.sample(10).T"
   ]
  },
  {
   "cell_type": "code",
   "execution_count": 5,
   "id": "9e780917",
   "metadata": {
    "colab": {
     "base_uri": "https://localhost:8080/"
    },
    "executionInfo": {
     "elapsed": 40,
     "status": "ok",
     "timestamp": 1645448317979,
     "user": {
      "displayName": "Mohamed Ahmed Hassan Abdelmaguid Mohamed",
      "photoUrl": "https://lh3.googleusercontent.com/a-/AOh14Gg7Cz_FAvD0YxWzRP7aQqIpUg-scVtk8zA6OPSSfw=s64",
      "userId": "04245446656493821652"
     },
     "user_tz": -120
    },
    "id": "9e780917",
    "outputId": "d2b7f51b-87cc-475f-9523-32597e2d6768"
   },
   "outputs": [
    {
     "name": "stdout",
     "output_type": "stream",
     "text": [
      "The shape of the data is -> (91129, 11) \n",
      " \n",
      "<class 'pandas.core.frame.DataFrame'>\n",
      "RangeIndex: 91129 entries, 0 to 91128\n",
      "Data columns (total 11 columns):\n",
      " #   Column               Non-Null Count  Dtype \n",
      "---  ------               --------------  ----- \n",
      " 0   lead_id              91129 non-null  int64 \n",
      " 1   customer_name        91129 non-null  object\n",
      " 2   lead_mobile_network  91128 non-null  object\n",
      " 3   message              89091 non-null  object\n",
      " 4   lead_time            91129 non-null  object\n",
      " 5   method_of_contact    91129 non-null  object\n",
      " 6   ad_group             91057 non-null  object\n",
      " 7   lead_source          91129 non-null  object\n",
      " 8   campaign             90349 non-null  object\n",
      " 9   location             90980 non-null  object\n",
      " 10  low_qualified        91129 non-null  object\n",
      "dtypes: int64(1), object(10)\n",
      "memory usage: 7.6+ MB\n"
     ]
    }
   ],
   "source": [
    "print(\"The shape of the data is -> {} \\n \".format(leads.shape))\n",
    "leads.info()"
   ]
  },
  {
   "cell_type": "markdown",
   "id": "82a5b6a2",
   "metadata": {},
   "source": [
    "There are alot to handle in this data from data type and missing values and incorrect data values"
   ]
  },
  {
   "cell_type": "code",
   "execution_count": 28,
   "id": "86955778",
   "metadata": {
    "colab": {
     "base_uri": "https://localhost:8080/"
    },
    "executionInfo": {
     "elapsed": 37,
     "status": "ok",
     "timestamp": 1645448317980,
     "user": {
      "displayName": "Mohamed Ahmed Hassan Abdelmaguid Mohamed",
      "photoUrl": "https://lh3.googleusercontent.com/a-/AOh14Gg7Cz_FAvD0YxWzRP7aQqIpUg-scVtk8zA6OPSSfw=s64",
      "userId": "04245446656493821652"
     },
     "user_tz": -120
    },
    "id": "86955778",
    "outputId": "f22c73b8-1210-473d-b7fb-7e004207effe"
   },
   "outputs": [
    {
     "data": {
      "text/plain": [
       "lead_id                0.000000\n",
       "customer_name          0.000000\n",
       "lead_mobile_network    0.001097\n",
       "message                2.236390\n",
       "lead_time              0.000000\n",
       "method_of_contact      0.000000\n",
       "ad_group               0.079009\n",
       "lead_source            0.000000\n",
       "campaign               0.855930\n",
       "location               0.163504\n",
       "low_qualified          0.000000\n",
       "dtype: float64"
      ]
     },
     "execution_count": 28,
     "metadata": {},
     "output_type": "execute_result"
    }
   ],
   "source": [
    "# Checking for missing values\n",
    "(leads.isnull().sum()/len(leads))*100"
   ]
  },
  {
   "cell_type": "code",
   "execution_count": 31,
   "id": "e6311585",
   "metadata": {},
   "outputs": [
    {
     "data": {
      "image/png": "[encoded data removed]",
      "text/plain": [
       "<Figure size 720x504 with 1 Axes>"
      ]
     },
     "metadata": {},
     "output_type": "display_data"
    }
   ],
   "source": [
    "missingvalues=pd.DataFrame((leads.isnull().sum()/len(leads))*100).reset_index().rename(columns={\"index\":\"Columns\",0:\"%OfMissingValues\"}).sort_values(by='%OfMissingValues',ascending=False)\n",
    "sns.barplot(x='%OfMissingValues', y='Columns', data=missingvalues[:15],palette='flare');\n",
    "plt.title(\"% Of MissingValues\",fontsize=20);\n",
    "\n"
   ]
  },
  {
   "cell_type": "code",
   "execution_count": 7,
   "id": "e2c970d3",
   "metadata": {},
   "outputs": [
    {
     "name": "stdout",
     "output_type": "stream",
     "text": [
      "% of losing samples if we drop all null values:\n",
      "_____________________________________________ \n",
      "\n",
      " lead_id                0.000000\n",
      "customer_name          0.000000\n",
      "lead_mobile_network    0.001097\n",
      "message                2.236390\n",
      "lead_time              0.000000\n",
      "method_of_contact      0.000000\n",
      "ad_group               0.079009\n",
      "lead_source            0.000000\n",
      "campaign               0.855930\n",
      "location               0.163504\n",
      "low_qualified          0.000000\n",
      "dtype: float64\n"
     ]
    }
   ],
   "source": [
    "print(\"% of losing samples if we drop all null values:\\n\"+\"_\"*45,\"\\n\\n\",(leads.isnull().sum()/len(leads))*100)"
   ]
  },
  {
   "cell_type": "markdown",
   "id": "815b9179",
   "metadata": {
    "id": "815b9179"
   },
   "source": [
    "we can drop missing values in this dataset, because the percentage of missing is very small\n",
    "\n",
    "----------------------------------------------------------------------------------"
   ]
  },
  {
   "cell_type": "code",
   "execution_count": 8,
   "id": "b8e3c4a5",
   "metadata": {
    "scrolled": true
   },
   "outputs": [
    {
     "name": "stdout",
     "output_type": "stream",
     "text": [
      "% of losing samples if we drop all null values:\n",
      "_____________________________________________ \n",
      "\n",
      " lead_id                0.0\n",
      "customer_name          0.0\n",
      "lead_mobile_network    0.0\n",
      "message                0.0\n",
      "lead_time              0.0\n",
      "method_of_contact      0.0\n",
      "ad_group               0.0\n",
      "lead_source            0.0\n",
      "campaign               0.0\n",
      "location               0.0\n",
      "low_qualified          0.0\n",
      "dtype: float64\n"
     ]
    }
   ],
   "source": [
    "leads=leads.dropna()\n",
    "print(\"% of losing samples if we drop all null values:\\n\"+\"_\"*45,\"\\n\\n\",(leads.isnull().sum()/len(leads))*100)"
   ]
  },
  {
   "cell_type": "code",
   "execution_count": 9,
   "id": "d9c7eba6",
   "metadata": {},
   "outputs": [
    {
     "data": {
      "text/plain": [
       "0"
      ]
     },
     "execution_count": 9,
     "metadata": {},
     "output_type": "execute_result"
    }
   ],
   "source": [
    "# Checking for duplicates values\n",
    "leads.duplicated().sum()"
   ]
  },
  {
   "cell_type": "markdown",
   "id": "037a3ed1",
   "metadata": {
    "id": "037a3ed1"
   },
   "source": [
    "**Lead ID**"
   ]
  },
  {
   "cell_type": "code",
   "execution_count": 10,
   "id": "9016e152",
   "metadata": {
    "colab": {
     "base_uri": "https://localhost:8080/"
    },
    "executionInfo": {
     "elapsed": 35,
     "status": "ok",
     "timestamp": 1645448317980,
     "user": {
      "displayName": "Mohamed Ahmed Hassan Abdelmaguid Mohamed",
      "photoUrl": "https://lh3.googleusercontent.com/a-/AOh14Gg7Cz_FAvD0YxWzRP7aQqIpUg-scVtk8zA6OPSSfw=s64",
      "userId": "04245446656493821652"
     },
     "user_tz": -120
    },
    "id": "9016e152",
    "outputId": "cfaddd01-12a9-46be-e4b7-bb328acea2fa"
   },
   "outputs": [
    {
     "data": {
      "text/plain": [
       "69334    337\n",
       "75772    103\n",
       "31069     57\n",
       "57328     46\n",
       "61131     44\n",
       "1116      39\n",
       "76915     37\n",
       "2360      36\n",
       "30600     33\n",
       "28149     31\n",
       "Name: lead_id, dtype: int64"
      ]
     },
     "execution_count": 10,
     "metadata": {},
     "output_type": "execute_result"
    }
   ],
   "source": [
    "# Let us see unique of lead_id feature\n",
    "leads['lead_id'].value_counts()[:10]"
   ]
  },
  {
   "cell_type": "markdown",
   "id": "0afde85f",
   "metadata": {},
   "source": [
    " * Lead ID may be repeated due to the customer my reach more than one time, we will see if we can benfit from that.\n",
    " * **69334** and **75772** IDs look suspicious. We want to check them"
   ]
  },
  {
   "cell_type": "code",
   "execution_count": 11,
   "id": "8352d2cb",
   "metadata": {},
   "outputs": [
    {
     "data": {
      "text/html": [
       "<div>\n",
       "<style scoped>\n",
       "    .dataframe tbody tr th:only-of-type {\n",
       "        vertical-align: middle;\n",
       "    }\n",
       "\n",
       "    .dataframe tbody tr th {\n",
       "        vertical-align: top;\n",
       "    }\n",
       "\n",
       "    .dataframe thead th {\n",
       "        text-align: right;\n",
       "    }\n",
       "</style>\n",
       "<table border=\"1\" class=\"dataframe\">\n",
       "  <thead>\n",
       "    <tr style=\"text-align: right;\">\n",
       "      <th></th>\n",
       "      <th>lead_id</th>\n",
       "      <th>customer_name</th>\n",
       "      <th>lead_mobile_network</th>\n",
       "      <th>message</th>\n",
       "      <th>lead_time</th>\n",
       "      <th>method_of_contact</th>\n",
       "      <th>ad_group</th>\n",
       "      <th>lead_source</th>\n",
       "      <th>campaign</th>\n",
       "      <th>location</th>\n",
       "      <th>low_qualified</th>\n",
       "    </tr>\n",
       "  </thead>\n",
       "  <tbody>\n",
       "    <tr>\n",
       "      <th>58409</th>\n",
       "      <td>69334</td>\n",
       "      <td>Test</td>\n",
       "      <td>Etisalat</td>\n",
       "      <td>message:</td>\n",
       "      <td>2022-03-20 21:44:23.211057</td>\n",
       "      <td>website</td>\n",
       "      <td>none</td>\n",
       "      <td>website</td>\n",
       "      <td>none</td>\n",
       "      <td>mountain view - icity - october</td>\n",
       "      <td>1</td>\n",
       "    </tr>\n",
       "    <tr>\n",
       "      <th>65582</th>\n",
       "      <td>75772</td>\n",
       "      <td>Testttttttt</td>\n",
       "      <td>Vodafone</td>\n",
       "      <td>message:</td>\n",
       "      <td>2022-05-22 14:58:15.460001</td>\n",
       "      <td>website</td>\n",
       "      <td>none</td>\n",
       "      <td>website</td>\n",
       "      <td>none</td>\n",
       "      <td>mountain view - icity - october</td>\n",
       "      <td>1</td>\n",
       "    </tr>\n",
       "    <tr>\n",
       "      <th>58487</th>\n",
       "      <td>69334</td>\n",
       "      <td>Test</td>\n",
       "      <td>Etisalat</td>\n",
       "      <td>message:</td>\n",
       "      <td>2022-03-22 11:32:43.677272</td>\n",
       "      <td>website</td>\n",
       "      <td>none</td>\n",
       "      <td>website</td>\n",
       "      <td>(none)</td>\n",
       "      <td>mountain view - icity - october</td>\n",
       "      <td>1</td>\n",
       "    </tr>\n",
       "    <tr>\n",
       "      <th>58439</th>\n",
       "      <td>69334</td>\n",
       "      <td>Test</td>\n",
       "      <td>Etisalat</td>\n",
       "      <td>message:</td>\n",
       "      <td>2022-03-20 22:46:57.753034</td>\n",
       "      <td>website</td>\n",
       "      <td>none</td>\n",
       "      <td>website</td>\n",
       "      <td>(none)</td>\n",
       "      <td>mountain view - icity - october</td>\n",
       "      <td>1</td>\n",
       "    </tr>\n",
       "    <tr>\n",
       "      <th>58633</th>\n",
       "      <td>69334</td>\n",
       "      <td>Test</td>\n",
       "      <td>Etisalat</td>\n",
       "      <td>message:</td>\n",
       "      <td>2022-05-16 21:14:03.291166</td>\n",
       "      <td>organic form</td>\n",
       "      <td>none</td>\n",
       "      <td>organic search</td>\n",
       "      <td>(none)</td>\n",
       "      <td>azad</td>\n",
       "      <td>1</td>\n",
       "    </tr>\n",
       "    <tr>\n",
       "      <th>58697</th>\n",
       "      <td>69334</td>\n",
       "      <td>Test</td>\n",
       "      <td>Etisalat</td>\n",
       "      <td>message:</td>\n",
       "      <td>2022-05-26 08:22:51.532404</td>\n",
       "      <td>organic form</td>\n",
       "      <td>none</td>\n",
       "      <td>organic form</td>\n",
       "      <td>none</td>\n",
       "      <td>badya palm hills</td>\n",
       "      <td>1</td>\n",
       "    </tr>\n",
       "    <tr>\n",
       "      <th>58664</th>\n",
       "      <td>69334</td>\n",
       "      <td>Test</td>\n",
       "      <td>Etisalat</td>\n",
       "      <td>message:</td>\n",
       "      <td>2022-05-22 14:50:56.487844</td>\n",
       "      <td>website</td>\n",
       "      <td>none</td>\n",
       "      <td>website</td>\n",
       "      <td>none</td>\n",
       "      <td>bo sands - north coast</td>\n",
       "      <td>1</td>\n",
       "    </tr>\n",
       "    <tr>\n",
       "      <th>58613</th>\n",
       "      <td>69334</td>\n",
       "      <td>Test</td>\n",
       "      <td>Etisalat</td>\n",
       "      <td>message:</td>\n",
       "      <td>2022-04-20 12:02:08.599982</td>\n",
       "      <td>website</td>\n",
       "      <td>none</td>\n",
       "      <td>website</td>\n",
       "      <td>(none)</td>\n",
       "      <td>mountain view - icity - october</td>\n",
       "      <td>1</td>\n",
       "    </tr>\n",
       "    <tr>\n",
       "      <th>58677</th>\n",
       "      <td>69334</td>\n",
       "      <td>Test</td>\n",
       "      <td>Etisalat</td>\n",
       "      <td>message:</td>\n",
       "      <td>2022-05-23 11:26:54.948859</td>\n",
       "      <td>website</td>\n",
       "      <td>none</td>\n",
       "      <td>website</td>\n",
       "      <td>none</td>\n",
       "      <td>new giza</td>\n",
       "      <td>1</td>\n",
       "    </tr>\n",
       "    <tr>\n",
       "      <th>65592</th>\n",
       "      <td>75772</td>\n",
       "      <td>Testttttttt</td>\n",
       "      <td>Vodafone</td>\n",
       "      <td>message:</td>\n",
       "      <td>2022-05-22 15:34:48.485702</td>\n",
       "      <td>organic form</td>\n",
       "      <td>none</td>\n",
       "      <td>organic form</td>\n",
       "      <td>none</td>\n",
       "      <td>mountain view - icity - october</td>\n",
       "      <td>1</td>\n",
       "    </tr>\n",
       "  </tbody>\n",
       "</table>\n",
       "</div>"
      ],
      "text/plain": [
       "       lead_id customer_name lead_mobile_network    message                   lead_time method_of_contact ad_group     lead_source campaign                         location low_qualified\n",
       "58409    69334          Test            Etisalat  message:   2022-03-20 21:44:23.211057           website     none         website     none  mountain view - icity - october             1\n",
       "65582    75772   Testttttttt            Vodafone  message:   2022-05-22 14:58:15.460001           website     none         website     none  mountain view - icity - october             1\n",
       "58487    69334          Test            Etisalat  message:   2022-03-22 11:32:43.677272           website     none         website   (none)  mountain view - icity - october             1\n",
       "58439    69334          Test            Etisalat  message:   2022-03-20 22:46:57.753034           website     none         website   (none)  mountain view - icity - october             1\n",
       "58633    69334          Test            Etisalat  message:   2022-05-16 21:14:03.291166      organic form     none  organic search   (none)                             azad             1\n",
       "58697    69334          Test            Etisalat  message:   2022-05-26 08:22:51.532404      organic form     none    organic form     none                 badya palm hills             1\n",
       "58664    69334          Test            Etisalat  message:   2022-05-22 14:50:56.487844           website     none         website     none           bo sands - north coast             1\n",
       "58613    69334          Test            Etisalat  message:   2022-04-20 12:02:08.599982           website     none         website   (none)  mountain view - icity - october             1\n",
       "58677    69334          Test            Etisalat  message:   2022-05-23 11:26:54.948859           website     none         website     none                         new giza             1\n",
       "65592    75772   Testttttttt            Vodafone  message:   2022-05-22 15:34:48.485702      organic form     none    organic form     none  mountain view - icity - october             1"
      ]
     },
     "execution_count": 11,
     "metadata": {},
     "output_type": "execute_result"
    }
   ],
   "source": [
    "id_lst=[75772,69334]\n",
    "leads[leads['lead_id'].isin(id_lst)].sample(10)"
   ]
  },
  {
   "cell_type": "markdown",
   "id": "5661d3e7",
   "metadata": {},
   "source": [
    "As we expected, the data is NOT REAL"
   ]
  },
  {
   "cell_type": "code",
   "execution_count": 12,
   "id": "0c13b4a4",
   "metadata": {},
   "outputs": [],
   "source": [
    "leads=leads[~leads['lead_id'].isin(id_lst)]"
   ]
  },
  {
   "cell_type": "code",
   "execution_count": 13,
   "id": "17b56007",
   "metadata": {
    "colab": {
     "base_uri": "https://localhost:8080/"
    },
    "executionInfo": {
     "elapsed": 33,
     "status": "ok",
     "timestamp": 1645448317981,
     "user": {
      "displayName": "Mohamed Ahmed Hassan Abdelmaguid Mohamed",
      "photoUrl": "https://lh3.googleusercontent.com/a-/AOh14Gg7Cz_FAvD0YxWzRP7aQqIpUg-scVtk8zA6OPSSfw=s64",
      "userId": "04245446656493821652"
     },
     "user_tz": -120
    },
    "id": "17b56007",
    "outputId": "e1464aed-a8cd-45db-a8ce-2325a1c07b53"
   },
   "outputs": [
    {
     "data": {
      "text/plain": [
       "Rubbish     847\n",
       "Ahmed       612\n",
       "Mohamed     489\n",
       "Database    250\n",
       "Mahmoud     169\n",
       "Amr         131\n",
       "Mostafa     124\n",
       "Mohamed     115\n",
       "Unknown     112\n",
       "Khaled      105\n",
       "Name: customer_name, dtype: int64"
      ]
     },
     "execution_count": 13,
     "metadata": {},
     "output_type": "execute_result"
    }
   ],
   "source": [
    "# Let us see unique of customer_name feature\n",
    "leads['customer_name'].value_counts()[:10]"
   ]
  },
  {
   "cell_type": "markdown",
   "id": "5ed9a7ce",
   "metadata": {
    "id": "5ed9a7ce"
   },
   "source": [
    "No need for name column, we will drop it."
   ]
  },
  {
   "cell_type": "code",
   "execution_count": 14,
   "id": "70dde599",
   "metadata": {
    "colab": {
     "base_uri": "https://localhost:8080/"
    },
    "executionInfo": {
     "elapsed": 32,
     "status": "ok",
     "timestamp": 1645448317982,
     "user": {
      "displayName": "Mohamed Ahmed Hassan Abdelmaguid Mohamed",
      "photoUrl": "https://lh3.googleusercontent.com/a-/AOh14Gg7Cz_FAvD0YxWzRP7aQqIpUg-scVtk8zA6OPSSfw=s64",
      "userId": "04245446656493821652"
     },
     "user_tz": -120
    },
    "id": "70dde599",
    "outputId": "4977e226-63bd-4a65-9a26-6b6d62b50e6c"
   },
   "outputs": [
    {
     "name": "stdout",
     "output_type": "stream",
     "text": [
      "% of lead_mobile_network:\n",
      "*************************\n"
     ]
    },
    {
     "data": {
      "text/plain": [
       "Vodafone    42.502424\n",
       "Orange      19.895067\n",
       "Etisalat    17.953807\n",
       "Gulf        13.570573\n",
       "Others       2.704306\n",
       "US_Canda     1.266039\n",
       "Europe       1.131451\n",
       "WE           0.974052\n",
       "?            0.001141\n",
       "hykjghk      0.001141\n",
       "Name: lead_mobile_network, dtype: float64"
      ]
     },
     "execution_count": 14,
     "metadata": {},
     "output_type": "execute_result"
    }
   ],
   "source": [
    "print(\"% of lead_mobile_network:\\n\"+\"*\"*25)\n",
    "leads['lead_mobile_network'].value_counts()/len(leads)*100"
   ]
  },
  {
   "cell_type": "code",
   "execution_count": 15,
   "id": "d4786ae5",
   "metadata": {
    "executionInfo": {
     "elapsed": 30,
     "status": "ok",
     "timestamp": 1645448317982,
     "user": {
      "displayName": "Mohamed Ahmed Hassan Abdelmaguid Mohamed",
      "photoUrl": "https://lh3.googleusercontent.com/a-/AOh14Gg7Cz_FAvD0YxWzRP7aQqIpUg-scVtk8zA6OPSSfw=s64",
      "userId": "04245446656493821652"
     },
     "user_tz": -120
    },
    "id": "d4786ae5"
   },
   "outputs": [
    {
     "name": "stdout",
     "output_type": "stream",
     "text": [
      "% of lead_mobile_network:\n",
      "*************************\n"
     ]
    },
    {
     "data": {
      "text/plain": [
       "Vodafone    42.502424\n",
       "Orange      19.895067\n",
       "Etisalat    17.953807\n",
       "Gulf        13.570573\n",
       "Others       2.706587\n",
       "US_Canda     1.266039\n",
       "Europe       1.131451\n",
       "WE           0.974052\n",
       "Name: lead_mobile_network, dtype: float64"
      ]
     },
     "execution_count": 15,
     "metadata": {},
     "output_type": "execute_result"
    }
   ],
   "source": [
    "leads['lead_mobile_network'].replace({'?':\"Others\" , 'hykjghk':\"Others\"},inplace=True)\n",
    "print(\"% of lead_mobile_network:\\n\"+\"*\"*25)\n",
    "leads['lead_mobile_network'].value_counts()/len(leads)*100"
   ]
  },
  {
   "cell_type": "markdown",
   "id": "6ad88446",
   "metadata": {
    "id": "6ad88446"
   },
   "source": [
    "**Message**"
   ]
  },
  {
   "cell_type": "code",
   "execution_count": 16,
   "id": "90cbcae7",
   "metadata": {
    "colab": {
     "base_uri": "https://localhost:8080/"
    },
    "executionInfo": {
     "elapsed": 28,
     "status": "ok",
     "timestamp": 1645448317983,
     "user": {
      "displayName": "Mohamed Ahmed Hassan Abdelmaguid Mohamed",
      "photoUrl": "https://lh3.googleusercontent.com/a-/AOh14Gg7Cz_FAvD0YxWzRP7aQqIpUg-scVtk8zA6OPSSfw=s64",
      "userId": "04245446656493821652"
     },
     "user_tz": -120
    },
    "id": "90cbcae7",
    "outputId": "c6835ccb-47e5-42eb-8c52-2ed740597ac6"
   },
   "outputs": [
    {
     "data": {
      "text/plain": [
       "array(['location : https://old.nawy.com/top-compounds/79?lang=en&utm_campaign=Dev_-_Al_Ahly_for_Real_Estate&utm_adgroup=Gaia&gclid=EAIaIQobChMI0b3uw_fT8QIVFNtRCh3dwA6hEAAYASAAEgJMyvD_BwE',\n",
       "       'ad_id : 23850213057720562 \\nadgroup_id : 23850213057720562 \\nadset_id : 23850213057730562 \\ncampaign_id : 23850207648790562 \\nconfirm_your_phone_number_ : 0100640996 \\ncreated_time : 2022-03-24T10:39:40+0000 \\nform_id : 493003378856092 \\nFacebook_id : 656652782290241 \\nleadgen_id : 656652782290241 \\npage_id : 653106524827671 \\nplatform : fb \\n',\n",
       "       'I would like more information on https://www.nawy.com/prime-compounds/Palm Hills New Cairo Compound?utm_campaign=DEV_-_PALM_HILLS&utm_adgroup=Palm_Hills_-_New_Cairo_Compound&gclid=Cj0KCQiAuvOPBhDXARIsAKzLQ8Fkc8i3_reNqBPzOgFW6lEaMm2OHngHCqvhVgCWnODptzzsTp1ksN0aApjtEALw_wcB&a=1942220425.1643989537 https://www.nawy.com/prime-compounds/Palm',\n",
       "       'ad_id : 23846126110650664 \\nadgroup_id : 23846126110650664 \\nadset_id : 23846126110660664 \\ncampaign_id : 23843039539670664 \\ncreated_time : 2020-10-22T05:35:44+0000 \\nform_id : 522854545193329 \\nfacebook_id : 447421419568815 \\nleadgen_id : 447421419568815 \\npage_id : 653106524827671 \\nplatform : fb \\n',\n",
       "       'ad_id : 23847880407080398 \\nadgroup_id : 23847880407080398 \\nadset_id : 23847880407090398 \\ncampaign_id : 23847339263870398 \\ncreated_time : 2021-07-01T11:43:24+0000 \\nform_id : 789310301775791 \\nFacebook_id : 2622989201336294 \\nleadgen_id : 2622989201336294 \\npage_id : 653106524827671 \\nplatform : fb \\n'],\n",
       "      dtype=object)"
      ]
     },
     "execution_count": 16,
     "metadata": {},
     "output_type": "execute_result"
    }
   ],
   "source": [
    "leads['message'].sample(5).values"
   ]
  },
  {
   "cell_type": "code",
   "execution_count": 17,
   "id": "962c5234",
   "metadata": {},
   "outputs": [],
   "source": [
    "leads['message']=leads['message'].apply(lambda x: re.findall('message: (.*)', x))\n",
    "leads['message']=leads['message'].str[0]\n",
    "leads = leads.replace(r'^\\s*$', np.NaN, regex=True)"
   ]
  },
  {
   "cell_type": "code",
   "execution_count": 18,
   "id": "4dd8ec0a",
   "metadata": {},
   "outputs": [
    {
     "data": {
      "text/plain": [
       "0.9420017108639863"
      ]
     },
     "execution_count": 18,
     "metadata": {},
     "output_type": "execute_result"
    }
   ],
   "source": [
    "leads['message'].isna().sum()/len(leads)"
   ]
  },
  {
   "cell_type": "markdown",
   "id": "42f282a7",
   "metadata": {},
   "source": [
    "There are more than 94% missing values,so I will drop it"
   ]
  },
  {
   "cell_type": "markdown",
   "id": "c57b4bc2",
   "metadata": {},
   "source": [
    "**Lead Time**"
   ]
  },
  {
   "cell_type": "code",
   "execution_count": 19,
   "id": "4d1bd69b",
   "metadata": {
    "colab": {
     "base_uri": "https://localhost:8080/"
    },
    "executionInfo": {
     "elapsed": 28,
     "status": "ok",
     "timestamp": 1645448317984,
     "user": {
      "displayName": "Mohamed Ahmed Hassan Abdelmaguid Mohamed",
      "photoUrl": "https://lh3.googleusercontent.com/a-/AOh14Gg7Cz_FAvD0YxWzRP7aQqIpUg-scVtk8zA6OPSSfw=s64",
      "userId": "04245446656493821652"
     },
     "user_tz": -120
    },
    "id": "4d1bd69b",
    "outputId": "e4f23370-4a54-49b7-9be9-8507fe3943bf"
   },
   "outputs": [
    {
     "data": {
      "text/html": [
       "<div>\n",
       "<style scoped>\n",
       "    .dataframe tbody tr th:only-of-type {\n",
       "        vertical-align: middle;\n",
       "    }\n",
       "\n",
       "    .dataframe tbody tr th {\n",
       "        vertical-align: top;\n",
       "    }\n",
       "\n",
       "    .dataframe thead th {\n",
       "        text-align: right;\n",
       "    }\n",
       "</style>\n",
       "<table border=\"1\" class=\"dataframe\">\n",
       "  <thead>\n",
       "    <tr style=\"text-align: right;\">\n",
       "      <th></th>\n",
       "      <th>lead_time</th>\n",
       "    </tr>\n",
       "  </thead>\n",
       "  <tbody>\n",
       "    <tr>\n",
       "      <th>6993</th>\n",
       "      <td>2022-03-22 11:31:06.026780</td>\n",
       "    </tr>\n",
       "    <tr>\n",
       "      <th>1196</th>\n",
       "      <td>2021-07-07 12:15:03.103000</td>\n",
       "    </tr>\n",
       "    <tr>\n",
       "      <th>17232</th>\n",
       "      <td>2021-03-01 19:53:18.297000</td>\n",
       "    </tr>\n",
       "    <tr>\n",
       "      <th>36005</th>\n",
       "      <td>2021-08-31 08:28:21.159498</td>\n",
       "    </tr>\n",
       "    <tr>\n",
       "      <th>29669</th>\n",
       "      <td>2022-05-02 10:29:13.284540</td>\n",
       "    </tr>\n",
       "    <tr>\n",
       "      <th>47684</th>\n",
       "      <td>2021-11-19 09:55:24.015423</td>\n",
       "    </tr>\n",
       "    <tr>\n",
       "      <th>72390</th>\n",
       "      <td>2022-04-03 08:45:13.607659</td>\n",
       "    </tr>\n",
       "    <tr>\n",
       "      <th>10814</th>\n",
       "      <td>2020-08-06 00:53:13.672000</td>\n",
       "    </tr>\n",
       "    <tr>\n",
       "      <th>78835</th>\n",
       "      <td>2022-04-29 03:05:29.123610</td>\n",
       "    </tr>\n",
       "    <tr>\n",
       "      <th>80745</th>\n",
       "      <td>2022-05-04 20:02:29.576117</td>\n",
       "    </tr>\n",
       "  </tbody>\n",
       "</table>\n",
       "</div>"
      ],
      "text/plain": [
       "                        lead_time\n",
       "6993   2022-03-22 11:31:06.026780\n",
       "1196   2021-07-07 12:15:03.103000\n",
       "17232  2021-03-01 19:53:18.297000\n",
       "36005  2021-08-31 08:28:21.159498\n",
       "29669  2022-05-02 10:29:13.284540\n",
       "47684  2021-11-19 09:55:24.015423\n",
       "72390  2022-04-03 08:45:13.607659\n",
       "10814  2020-08-06 00:53:13.672000\n",
       "78835  2022-04-29 03:05:29.123610\n",
       "80745  2022-05-04 20:02:29.576117"
      ]
     },
     "execution_count": 19,
     "metadata": {},
     "output_type": "execute_result"
    }
   ],
   "source": [
    "leads[['lead_time']].sample(10)"
   ]
  },
  {
   "cell_type": "code",
   "execution_count": 40,
   "id": "ce741ddd",
   "metadata": {},
   "outputs": [
    {
     "name": "stdout",
     "output_type": "stream",
     "text": [
      "<class 'pandas.core.frame.DataFrame'>\n",
      "Int64Index: 87668 entries, 0 to 91128\n",
      "Data columns (total 11 columns):\n",
      " #   Column               Non-Null Count  Dtype         \n",
      "---  ------               --------------  -----         \n",
      " 0   lead_id              87668 non-null  int64         \n",
      " 1   customer_name        87668 non-null  object        \n",
      " 2   lead_mobile_network  87668 non-null  object        \n",
      " 3   message              5084 non-null   object        \n",
      " 4   lead_time            87668 non-null  datetime64[ns]\n",
      " 5   method_of_contact    87668 non-null  object        \n",
      " 6   ad_group             87668 non-null  object        \n",
      " 7   lead_source          87668 non-null  object        \n",
      " 8   campaign             87668 non-null  object        \n",
      " 9   location             87668 non-null  object        \n",
      " 10  low_qualified        87668 non-null  object        \n",
      "dtypes: datetime64[ns](1), int64(1), object(9)\n",
      "memory usage: 8.0+ MB\n"
     ]
    }
   ],
   "source": [
    "# fixing the data type \n",
    "leads['lead_time']=pd.to_datetime(leads['lead_time'],errors='coerce')\n",
    "leads.info()"
   ]
  },
  {
   "cell_type": "code",
   "execution_count": 41,
   "id": "a597e29d",
   "metadata": {},
   "outputs": [
    {
     "name": "stdout",
     "output_type": "stream",
     "text": [
      "<class 'pandas.core.frame.DataFrame'>\n",
      "Int64Index: 87668 entries, 0 to 91128\n",
      "Data columns (total 11 columns):\n",
      " #   Column               Non-Null Count  Dtype         \n",
      "---  ------               --------------  -----         \n",
      " 0   lead_id              87668 non-null  int64         \n",
      " 1   customer_name        87668 non-null  object        \n",
      " 2   lead_mobile_network  87668 non-null  object        \n",
      " 3   message              5084 non-null   object        \n",
      " 4   lead_time            87668 non-null  datetime64[ns]\n",
      " 5   method_of_contact    87668 non-null  object        \n",
      " 6   ad_group             87668 non-null  object        \n",
      " 7   lead_source          87668 non-null  object        \n",
      " 8   campaign             87668 non-null  object        \n",
      " 9   location             87668 non-null  object        \n",
      " 10  low_qualified        87668 non-null  object        \n",
      "dtypes: datetime64[ns](1), int64(1), object(9)\n",
      "memory usage: 8.0+ MB\n"
     ]
    }
   ],
   "source": [
    "leads=leads.dropna(subset='lead_time')\n",
    "leads.info()"
   ]
  },
  {
   "cell_type": "code",
   "execution_count": 42,
   "id": "43c1bacf",
   "metadata": {},
   "outputs": [],
   "source": [
    "#leads.replace({\"none\":np.nan,\"(none)\":np.nan},inplace=True)"
   ]
  },
  {
   "cell_type": "markdown",
   "id": "7f3ebbb8",
   "metadata": {},
   "source": [
    "We can not conver type of column time_lead to date dute to there are string in the column we need to fix it."
   ]
  },
  {
   "cell_type": "markdown",
   "id": "c8cf2edc",
   "metadata": {
    "id": "c8cf2edc"
   },
   "source": [
    "**Method of Contact**"
   ]
  },
  {
   "cell_type": "code",
   "execution_count": 43,
   "id": "dae33136",
   "metadata": {
    "colab": {
     "base_uri": "https://localhost:8080/"
    },
    "executionInfo": {
     "elapsed": 26,
     "status": "ok",
     "timestamp": 1645448317985,
     "user": {
      "displayName": "Mohamed Ahmed Hassan Abdelmaguid Mohamed",
      "photoUrl": "https://lh3.googleusercontent.com/a-/AOh14Gg7Cz_FAvD0YxWzRP7aQqIpUg-scVtk8zA6OPSSfw=s64",
      "userId": "04245446656493821652"
     },
     "user_tz": -120
    },
    "id": "dae33136",
    "outputId": "bff44e9f-175c-4160-a9ef-12d094b5b313"
   },
   "outputs": [
    {
     "data": {
      "text/plain": [
       "facebook    49561\n",
       "form        16532\n",
       "app          8630\n",
       "phone        6552\n",
       "website      3485\n",
       "referral     1974\n",
       "google        768\n",
       "other         166\n",
       "Name: method_of_contact, dtype: int64"
      ]
     },
     "execution_count": 43,
     "metadata": {},
     "output_type": "execute_result"
    }
   ],
   "source": [
    "leads['method_of_contact'].value_counts()[:20]"
   ]
  },
  {
   "cell_type": "markdown",
   "id": "a584903c",
   "metadata": {},
   "source": [
    "We may want to reducing number of unique value"
   ]
  },
  {
   "cell_type": "code",
   "execution_count": 44,
   "id": "5f7a9a38",
   "metadata": {},
   "outputs": [],
   "source": [
    "leads=clustring_cat(leads,'method_of_contact')"
   ]
  },
  {
   "cell_type": "code",
   "execution_count": 45,
   "id": "8f95065b",
   "metadata": {},
   "outputs": [
    {
     "data": {
      "text/plain": [
       "facebook    49561\n",
       "form        16532\n",
       "app          8630\n",
       "phone        6552\n",
       "website      3485\n",
       "referral     1974\n",
       "google        768\n",
       "other         166\n",
       "Name: method_of_contact, dtype: int64"
      ]
     },
     "execution_count": 45,
     "metadata": {},
     "output_type": "execute_result"
    }
   ],
   "source": [
    "leads['method_of_contact'].value_counts()"
   ]
  },
  {
   "cell_type": "markdown",
   "id": "2408af27",
   "metadata": {},
   "source": [
    "DONE !!"
   ]
  },
  {
   "cell_type": "markdown",
   "id": "8a3546aa",
   "metadata": {
    "id": "8a3546aa"
   },
   "source": [
    "**Ad group**"
   ]
  },
  {
   "cell_type": "code",
   "execution_count": 46,
   "id": "7705ecf4",
   "metadata": {},
   "outputs": [
    {
     "data": {
      "text/plain": [
       "unkown                                                                          36519\n",
       "mountain view october khaleeji lookalike 3                                        995\n",
       "                                                                                  721\n",
       "mountain view october general audience with investment real estate interests      697\n",
       "aura apartments general audience real estate interests                            550\n",
       "the lakes bloomfields khaleeji lookalike                                          473\n",
       "il bosco city real estate interest                                                442\n",
       "il bosco city khaleeji lookalike                                                  430\n",
       "sodic east general audience with real estate interests                            389\n",
       "belle vie general audience real estate interests                                  382\n",
       "o west western audience                                                           350\n",
       "mivida blue views residences general audience real estate interests               319\n",
       "marassi general audience with real estate interests                               318\n",
       "palm hills new cairo cib aibk creme gouna congrats                                287\n",
       "village west villas lookalike 3                                                   279\n",
       "jefaira cib lookalike                                                             272\n",
       "marassi cib aibk creme gouna congrats                                             263\n",
       "marassi gouna lookalike                                                           259\n",
       "cairo giza 30 soma bay and red sea resorts interests                              247\n",
       "marassi cib lookalike                                                             241\n",
       "Name: ad_group, dtype: int64"
      ]
     },
     "execution_count": 46,
     "metadata": {},
     "output_type": "execute_result"
    }
   ],
   "source": [
    "leads['ad_group'].value_counts()[:20]\n"
   ]
  },
  {
   "cell_type": "code",
   "execution_count": 47,
   "id": "05552b10",
   "metadata": {},
   "outputs": [],
   "source": [
    "leads['ad_group']=leads['ad_group'].apply(lambda x: clean_text(x))\n",
    "\n",
    "leads.loc[(leads['ad_group']=='none'),'ad_group']='unkown'\n"
   ]
  },
  {
   "cell_type": "code",
   "execution_count": 48,
   "id": "7df04a15",
   "metadata": {},
   "outputs": [
    {
     "data": {
      "text/plain": [
       "unkown                                                                          36519\n",
       "mountain view october khaleeji lookalike 3                                        995\n",
       "                                                                                  721\n",
       "mountain view october general audience with investment real estate interests      697\n",
       "aura apartments general audience real estate interests                            550\n",
       "the lakes bloomfields khaleeji lookalike                                          473\n",
       "il bosco city real estate interest                                                442\n",
       "il bosco city khaleeji lookalike                                                  430\n",
       "sodic east general audience with real estate interests                            389\n",
       "belle vie general audience real estate interests                                  382\n",
       "o west western audience                                                           350\n",
       "mivida blue views residences general audience real estate interests               319\n",
       "marassi general audience with real estate interests                               318\n",
       "palm hills new cairo cib aibk creme gouna congrats                                287\n",
       "village west villas lookalike 3                                                   279\n",
       "jefaira cib lookalike                                                             272\n",
       "marassi cib aibk creme gouna congrats                                             263\n",
       "marassi gouna lookalike                                                           259\n",
       "cairo giza 30 soma bay and red sea resorts interests                              247\n",
       "marassi cib lookalike                                                             241\n",
       "mountain view october general audience with real estate interests                 227\n",
       "marassi all congrats lookalike                                                    226\n",
       "noor city general audience with real estate interests                             223\n",
       "the gate general audience with real estate interests                              219\n",
       "jefaira general audience with real estate interests                               219\n",
       "eastown khaleeji lookalike                                                        218\n",
       "gouna super hed with red sea beach interests                                      215\n",
       "zed east sawiris pictures                                                         214\n",
       "mazarine general audience with real estate interests                              205\n",
       "il bosco city mega list lookalike 3                                               204\n",
       "belle vie general audience with october interests                                 203\n",
       "badya general audience october interests                                          202\n",
       "palm hills offer                                                                  198\n",
       "marassi villas lookalike                                                          193\n",
       "il bosco city qualified lookalikes 3                                              191\n",
       "june general audience with investment real estate interests                       189\n",
       "marassi congrats reserved blocked eoi lookalikek                                  186\n",
       "sodic east cib lookalike                                                          183\n",
       "aura apartments creme de la creme lookalike 3 amany                               179\n",
       "mazarine general audience with north coast and real estate interests              178\n",
       "d bay general audience with real estate interests                                 176\n",
       "marassi north coast lookalike                                                     174\n",
       "azzar mix lookalike                                                               170\n",
       "ad group 1                                                                        169\n",
       "v residence khaleeji lookallike                                                   169\n",
       "marassi general audience with marassi north coast interests                       168\n",
       "the gate cib lookalike                                                            168\n",
       "zed west general audience real estate interests                                   167\n",
       "palm hills new cairo new cairo 6th of october lookalike                           167\n",
       "residence 8 general audience with real estate interests                           164\n",
       "Name: ad_group, dtype: int64"
      ]
     },
     "execution_count": 48,
     "metadata": {},
     "output_type": "execute_result"
    }
   ],
   "source": [
    "leads['ad_group'].value_counts()[:50]"
   ]
  },
  {
   "cell_type": "markdown",
   "id": "ZeSrI6JbsWkZ",
   "metadata": {
    "id": "ZeSrI6JbsWkZ"
   },
   "source": [
    "**Lead Source**"
   ]
  },
  {
   "cell_type": "code",
   "execution_count": 49,
   "id": "8ace644e",
   "metadata": {
    "colab": {
     "base_uri": "https://localhost:8080/",
     "height": 676
    },
    "executionInfo": {
     "elapsed": 402,
     "status": "ok",
     "timestamp": 1645448318783,
     "user": {
      "displayName": "Mohamed Ahmed Hassan Abdelmaguid Mohamed",
      "photoUrl": "https://lh3.googleusercontent.com/a-/AOh14Gg7Cz_FAvD0YxWzRP7aQqIpUg-scVtk8zA6OPSSfw=s64",
      "userId": "04245446656493821652"
     },
     "user_tz": -120
    },
    "id": "8ace644e",
    "outputId": "3e6a3337-e203-4ad8-d709-04f9fa65292e"
   },
   "outputs": [
    {
     "data": {
      "text/plain": [
       "facebook        51131\n",
       "google          19322\n",
       "website          7216\n",
       "phone            3761\n",
       "app              2256\n",
       "referral         1976\n",
       "landing page     1146\n",
       "other             408\n",
       "unknown           404\n",
       "form               48\n",
       "Name: lead_source, dtype: int64"
      ]
     },
     "execution_count": 49,
     "metadata": {},
     "output_type": "execute_result"
    }
   ],
   "source": [
    "leads['lead_source'].value_counts()[:20]"
   ]
  },
  {
   "cell_type": "markdown",
   "id": "6d40599e",
   "metadata": {},
   "source": [
    "same to method of contact"
   ]
  },
  {
   "cell_type": "code",
   "execution_count": 50,
   "id": "0849e880",
   "metadata": {},
   "outputs": [],
   "source": [
    "\n",
    "leads=clustring_cat(leads,\"lead_source\")"
   ]
  },
  {
   "cell_type": "code",
   "execution_count": 51,
   "id": "3ec5aebb",
   "metadata": {
    "colab": {
     "base_uri": "https://localhost:8080/"
    },
    "executionInfo": {
     "elapsed": 9,
     "status": "ok",
     "timestamp": 1645448318784,
     "user": {
      "displayName": "Mohamed Ahmed Hassan Abdelmaguid Mohamed",
      "photoUrl": "https://lh3.googleusercontent.com/a-/AOh14Gg7Cz_FAvD0YxWzRP7aQqIpUg-scVtk8zA6OPSSfw=s64",
      "userId": "04245446656493821652"
     },
     "user_tz": -120
    },
    "id": "3ec5aebb",
    "outputId": "15680829-5bb5-47a7-9ad2-bc26155b9322",
    "scrolled": true
   },
   "outputs": [
    {
     "data": {
      "text/plain": [
       "facebook        51131\n",
       "google          19322\n",
       "website          7216\n",
       "phone            3761\n",
       "app              2256\n",
       "referral         1976\n",
       "landing page     1146\n",
       "other             408\n",
       "unknown           404\n",
       "form               48\n",
       "Name: lead_source, dtype: int64"
      ]
     },
     "execution_count": 51,
     "metadata": {},
     "output_type": "execute_result"
    }
   ],
   "source": [
    "leads['lead_source'].value_counts()"
   ]
  },
  {
   "cell_type": "markdown",
   "id": "914b399d",
   "metadata": {},
   "source": [
    "**Campaign**"
   ]
  },
  {
   "cell_type": "code",
   "execution_count": 52,
   "id": "d121ca39",
   "metadata": {},
   "outputs": [
    {
     "data": {
      "text/plain": [
       "unknown                                                  21839\n",
       "google cpc                                                2615\n",
       "mountain view lead generation cooing 3                    1586\n",
       "emaar lead generation cooing 3                            1431\n",
       "emaar misr lead generation cooing 2 new                   1428\n",
       "misr italia lead generation cooing 1 new                  1403\n",
       "sodic lead generation new cooing 3                        1345\n",
       "mountain view lead generation cooing 4                    1310\n",
       "sodic lead generation new cooing 2                        1281\n",
       "dev palm hills                                            1113\n",
       "emaar lead generation cooing 4 new                         994\n",
       "dev dorra                                                  990\n",
       "palm hills lead generation cooing 3 new                    966\n",
       "palm hills lead generation cooing 2 new                    952\n",
       "sodic lead generation new cooing 4                         884\n",
       "city edge lead generation                                  868\n",
       "tatweer misr lead generation cooing 2 new                  795\n",
       "dev ora                                                    770\n",
       "al futtaim group real estate lead generation cooing 2      766\n",
       "dev mountain view ar                                       763\n",
       "Name: campaign, dtype: int64"
      ]
     },
     "execution_count": 52,
     "metadata": {},
     "output_type": "execute_result"
    }
   ],
   "source": [
    "leads['campaign'].value_counts()[:20]"
   ]
  },
  {
   "cell_type": "code",
   "execution_count": 53,
   "id": "c0954110",
   "metadata": {},
   "outputs": [
    {
     "data": {
      "text/plain": [
       "unknown                                                  21839\n",
       "google cpc                                                2615\n",
       "mountain view lead generation cooing 3                    1586\n",
       "emaar lead generation cooing 3                            1431\n",
       "emaar misr lead generation cooing 2 new                   1428\n",
       "misr italia lead generation cooing 1 new                  1403\n",
       "sodic lead generation new cooing 3                        1345\n",
       "mountain view lead generation cooing 4                    1310\n",
       "sodic lead generation new cooing 2                        1281\n",
       "dev palm hills                                            1113\n",
       "emaar lead generation cooing 4 new                         994\n",
       "dev dorra                                                  990\n",
       "palm hills lead generation cooing 3 new                    966\n",
       "palm hills lead generation cooing 2 new                    952\n",
       "sodic lead generation new cooing 4                         884\n",
       "city edge lead generation                                  868\n",
       "tatweer misr lead generation cooing 2 new                  795\n",
       "dev ora                                                    770\n",
       "al futtaim group real estate lead generation cooing 2      766\n",
       "dev mountain view ar                                       763\n",
       "Name: campaign, dtype: int64"
      ]
     },
     "execution_count": 53,
     "metadata": {},
     "output_type": "execute_result"
    }
   ],
   "source": [
    "leads.loc[(leads['campaign']=='none')|(leads['campaign']=='(none)'),'campaign']='unknown'\n",
    "leads['campaign']=leads['campaign'].apply(lambda x: clean_text(x))\n",
    "\n",
    "leads['campaign'].value_counts()[:20]"
   ]
  },
  {
   "cell_type": "markdown",
   "id": "b9d2503b",
   "metadata": {},
   "source": [
    "**Location**"
   ]
  },
  {
   "cell_type": "code",
   "execution_count": 54,
   "id": "2e7bb491",
   "metadata": {},
   "outputs": [
    {
     "data": {
      "text/plain": [
       "unknown                             12783\n",
       "marassi                              3337\n",
       "mountain view october apartments     2521\n",
       "badya                                1801\n",
       "palm hills new cairo                 1792\n",
       "il bosco city                        1766\n",
       "sodic east                           1493\n",
       "zed east                             1455\n",
       "al burouj                            1282\n",
       "jefaira                              1224\n",
       "address east                         1174\n",
       "the gate                             1155\n",
       "belle vie                            1108\n",
       "village west                         1104\n",
       "v residence                          1019\n",
       "cairo gate                            882\n",
       "noor city                             858\n",
       "eastown                               851\n",
       "aura cfc                              844\n",
       "zed                                   793\n",
       "Name: location, dtype: int64"
      ]
     },
     "execution_count": 54,
     "metadata": {},
     "output_type": "execute_result"
    }
   ],
   "source": [
    "leads['location'].value_counts()[:20]"
   ]
  },
  {
   "cell_type": "code",
   "execution_count": 55,
   "id": "d3744edf",
   "metadata": {
    "colab": {
     "base_uri": "https://localhost:8080/",
     "height": 469
    },
    "executionInfo": {
     "elapsed": 2639,
     "status": "ok",
     "timestamp": 1645448321418,
     "user": {
      "displayName": "Mohamed Ahmed Hassan Abdelmaguid Mohamed",
      "photoUrl": "https://lh3.googleusercontent.com/a-/AOh14Gg7Cz_FAvD0YxWzRP7aQqIpUg-scVtk8zA6OPSSfw=s64",
      "userId": "04245446656493821652"
     },
     "user_tz": -120
    },
    "id": "d3744edf",
    "outputId": "20bb4fd5-27c6-4a37-b4c8-1d0679457eae"
   },
   "outputs": [],
   "source": [
    "leads.loc[(leads['location']=='none'),'location']='unknown'"
   ]
  },
  {
   "cell_type": "code",
   "execution_count": 56,
   "id": "baa87bdc",
   "metadata": {},
   "outputs": [
    {
     "data": {
      "text/plain": [
       "unknown                             12783\n",
       "marassi                              3337\n",
       "mountain view october apartments     2521\n",
       "badya                                1801\n",
       "palm hills new cairo                 1792\n",
       "il bosco city                        1766\n",
       "sodic east                           1493\n",
       "zed east                             1455\n",
       "al burouj                            1282\n",
       "jefaira                              1224\n",
       "address east                         1174\n",
       "the gate                             1155\n",
       "belle vie                            1108\n",
       "village west                         1104\n",
       "v residence                          1019\n",
       "cairo gate                            882\n",
       "noor city                             858\n",
       "eastown                               851\n",
       "aura cfc                              844\n",
       "zed                                   793\n",
       "Name: location, dtype: int64"
      ]
     },
     "execution_count": 56,
     "metadata": {},
     "output_type": "execute_result"
    }
   ],
   "source": [
    "leads['location'].value_counts()[:20]"
   ]
  },
  {
   "cell_type": "markdown",
   "id": "567fd229",
   "metadata": {},
   "source": [
    "**Low Qualified**"
   ]
  },
  {
   "cell_type": "code",
   "execution_count": 57,
   "id": "1ff6b8ed",
   "metadata": {
    "colab": {
     "base_uri": "https://localhost:8080/"
    },
    "executionInfo": {
     "elapsed": 3838,
     "status": "ok",
     "timestamp": 1645448325252,
     "user": {
      "displayName": "Mohamed Ahmed Hassan Abdelmaguid Mohamed",
      "photoUrl": "https://lh3.googleusercontent.com/a-/AOh14Gg7Cz_FAvD0YxWzRP7aQqIpUg-scVtk8zA6OPSSfw=s64",
      "userId": "04245446656493821652"
     },
     "user_tz": -120
    },
    "id": "1ff6b8ed",
    "outputId": "16dcff71-4e45-4a5c-8893-7f7a5f63abe5"
   },
   "outputs": [
    {
     "data": {
      "text/plain": [
       "0    72408\n",
       "1    15260\n",
       "Name: low_qualified, dtype: int64"
      ]
     },
     "execution_count": 57,
     "metadata": {},
     "output_type": "execute_result"
    }
   ],
   "source": [
    "leads['low_qualified'].value_counts()"
   ]
  },
  {
   "cell_type": "markdown",
   "id": "1a329666",
   "metadata": {
    "id": "1a329666"
   },
   "source": [
    "Uncorrected values in our target column\n"
   ]
  },
  {
   "cell_type": "code",
   "execution_count": 59,
   "id": "991b99d5",
   "metadata": {},
   "outputs": [
    {
     "name": "stdout",
     "output_type": "stream",
     "text": [
      "<class 'pandas.core.frame.DataFrame'>\n",
      "Int64Index: 87668 entries, 0 to 91128\n",
      "Data columns (total 11 columns):\n",
      " #   Column               Non-Null Count  Dtype         \n",
      "---  ------               --------------  -----         \n",
      " 0   lead_id              87668 non-null  int64         \n",
      " 1   customer_name        87668 non-null  object        \n",
      " 2   lead_mobile_network  87668 non-null  object        \n",
      " 3   message              5084 non-null   object        \n",
      " 4   lead_time            87668 non-null  datetime64[ns]\n",
      " 5   method_of_contact    87668 non-null  object        \n",
      " 6   ad_group             87668 non-null  object        \n",
      " 7   lead_source          87668 non-null  object        \n",
      " 8   campaign             87668 non-null  object        \n",
      " 9   location             87668 non-null  object        \n",
      " 10  low_qualified        87668 non-null  object        \n",
      "dtypes: datetime64[ns](1), int64(1), object(9)\n",
      "memory usage: 8.0+ MB\n"
     ]
    }
   ],
   "source": [
    "leads.info()"
   ]
  },
  {
   "cell_type": "code",
   "execution_count": 60,
   "id": "0a5c1b45",
   "metadata": {},
   "outputs": [],
   "source": [
    "leads.to_csv(\"./dataset/leads_v1.csv\",index=False)"
   ]
  },
  {
   "cell_type": "code",
   "execution_count": null,
   "id": "6c93238f",
   "metadata": {},
   "outputs": [],
   "source": []
  },
  {
   "cell_type": "code",
   "execution_count": null,
   "id": "a56ce187",
   "metadata": {},
   "outputs": [],
   "source": []
  }
 ],
 "metadata": {
  "colab": {
   "collapsed_sections": [],
   "name": "01_Data_Collecting_and_Cleaning.ipynb",
   "provenance": []
  },
  "kernelspec": {
   "display_name": "Python 3 (ipykernel)",
   "language": "python",
   "name": "python3"
  },
  "language_info": {
   "codemirror_mode": {
    "name": "ipython",
    "version": 3
   },
   "file_extension": ".py",
   "mimetype": "text/x-python",
   "name": "python",
   "nbconvert_exporter": "python",
   "pygments_lexer": "ipython3",
   "version": "3.8.8"
  }
 },
 "nbformat": 4,
 "nbformat_minor": 5
}
